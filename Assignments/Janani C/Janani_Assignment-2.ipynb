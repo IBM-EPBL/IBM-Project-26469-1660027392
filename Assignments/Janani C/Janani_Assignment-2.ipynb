{
  "metadata": {
    "colab": {
      "provenance": [],
      "collapsed_sections": []
    },
    "kernelspec": {
      "name": "python",
      "display_name": "Python (Pyodide)",
      "language": "python"
    },
    "language_info": {
      "codemirror_mode": {
        "name": "python",
        "version": 3
      },
      "file_extension": ".py",
      "mimetype": "text/x-python",
      "name": "python",
      "nbconvert_exporter": "python",
      "pygments_lexer": "ipython3",
      "version": "3.8"
    }
  },
  "nbformat_minor": 4,
  "nbformat": 4,
  "cells": [
    {
      "cell_type": "markdown",
      "source": "# **1.Import the Required Package**",
      "metadata": {
        "id": "VuPx_3ee9FmN"
      }
    },
    {
      "cell_type": "code",
      "source": "import pandas as pd\nimport seaborn as sns\nimport numpy as np\nfrom matplotlib import pyplot as plt\nfrom google.colab import files\nuploaded=files.upload()\n%matplotlib inline",
      "metadata": {
        "colab": {
          "base_uri": "https://localhost:8080/",
          "height": 73
        },
        "id": "qi6dy06Y9BFa",
        "outputId": "2977da76-a6ba-4b08-879a-628ccf0a76f7",
        "trusted": true
      },
      "execution_count": null,
      "outputs": []
    },
    {
      "cell_type": "markdown",
      "source": "# **2.Loading the DataSet**",
      "metadata": {
        "id": "VQfwik9P9ygM"
      }
    },
    {
      "cell_type": "code",
      "source": "df = pd.read_csv(\"Churn_Modelling.csv\")\ndf",
      "metadata": {
        "colab": {
          "base_uri": "https://localhost:8080/",
          "height": 488
        },
        "id": "q8nQ4BhT9xIr",
        "outputId": "e3131620-2775-48f6-edf9-ac49761a14f1",
        "trusted": true
      },
      "execution_count": null,
      "outputs": []
    },
    {
      "cell_type": "markdown",
      "source": "# **3.Visualizations**",
      "metadata": {
        "id": "JeZGkjaw-K4k"
      }
    },
    {
      "cell_type": "markdown",
      "source": "# **3.1 Univariate Analysis**",
      "metadata": {
        "id": "oAFDOfKU-YKX"
      }
    },
    {
      "cell_type": "code",
      "source": "sns.displot(df.Gender)",
      "metadata": {
        "colab": {
          "base_uri": "https://localhost:8080/",
          "height": 386
        },
        "id": "MPjMH9Ni-XFX",
        "outputId": "9c8d5e21-6567-4df0-c19b-e292d0cd01aa",
        "trusted": true
      },
      "execution_count": null,
      "outputs": []
    },
    {
      "cell_type": "markdown",
      "source": "# **Bi-Variate Analysis**",
      "metadata": {
        "id": "Brip9Kq3Dtvb"
      }
    },
    {
      "cell_type": "code",
      "source": "df.plot.line()",
      "metadata": {
        "colab": {
          "base_uri": "https://localhost:8080/",
          "height": 293
        },
        "id": "ufLLvUIEFuqu",
        "outputId": "b881efd6-be92-4cb9-e532-c9f7451478c8",
        "trusted": true
      },
      "execution_count": null,
      "outputs": []
    },
    {
      "cell_type": "markdown",
      "source": "# **Multi-Variate Analysis**",
      "metadata": {
        "id": "8GWV6Tm_GB6H"
      }
    },
    {
      "cell_type": "code",
      "source": "sns.lmplot(\"Tenure\",\"NumOfProducts\",df,hue=\"NumOfProducts\", fit_reg=False);",
      "metadata": {
        "colab": {
          "base_uri": "https://localhost:8080/",
          "height": 424
        },
        "id": "Gz6MkMHxGAyZ",
        "outputId": "5833806a-2bd7-4d76-9df5-37b477b2186f",
        "trusted": true
      },
      "execution_count": null,
      "outputs": []
    },
    {
      "cell_type": "markdown",
      "source": "# **4.Perform Sescriptive Statistics on Dataset**",
      "metadata": {
        "id": "IV2CbKp_GYAK"
      }
    },
    {
      "cell_type": "code",
      "source": "df.describe()",
      "metadata": {
        "colab": {
          "base_uri": "https://localhost:8080/",
          "height": 364
        },
        "id": "QXl_Sk3HGsaG",
        "outputId": "cceafdac-1c8c-4225-c363-0fa06b7788c2",
        "trusted": true
      },
      "execution_count": null,
      "outputs": []
    },
    {
      "cell_type": "markdown",
      "source": "# **5.Handle the Missing Values**",
      "metadata": {
        "id": "l1a0FZQJGz5R"
      }
    },
    {
      "cell_type": "code",
      "source": "data = pd.read_csv(\"Churn_Modelling.csv\")\npd.isnull(data[\"Gender\"])\n",
      "metadata": {
        "colab": {
          "base_uri": "https://localhost:8080/"
        },
        "id": "Za4LKWm6G7yE",
        "outputId": "d6b5fcf0-d8a3-49a7-c00c-ec853e397d4b",
        "trusted": true
      },
      "execution_count": null,
      "outputs": []
    },
    {
      "cell_type": "markdown",
      "source": "# **6.Find the Outliers and Replace the Outliers**",
      "metadata": {
        "id": "bqKZYwDsHCSw"
      }
    },
    {
      "cell_type": "code",
      "source": "pd.get_dummies(df, columns=[\"Gender\", \"Age\"], prefix=[\"Age\", \"Gender\"]).head()",
      "metadata": {
        "colab": {
          "base_uri": "https://localhost:8080/",
          "height": 299
        },
        "id": "YO6EU8YiHlK3",
        "outputId": "d7eb0372-b9db-449e-db76-da686445e58c",
        "trusted": true
      },
      "execution_count": null,
      "outputs": []
    },
    {
      "cell_type": "markdown",
      "source": "# **7. Check for Categorical columns and perform encoding.**\n",
      "metadata": {
        "id": "vhxe0c61LvRc"
      }
    },
    {
      "cell_type": "code",
      "source": "pd.get_dummies(df, columns=[\"Gender\", \"Age\"], prefix=[\"Age\", \"Gender\"]).head()",
      "metadata": {
        "colab": {
          "base_uri": "https://localhost:8080/",
          "height": 299
        },
        "id": "I3Ctn78TL6Tt",
        "outputId": "2b5dac2c-8d31-4562-ead5-c7b7d76ffa33",
        "trusted": true
      },
      "execution_count": null,
      "outputs": []
    },
    {
      "cell_type": "markdown",
      "source": "# **8. Split the Data Into Dependent and Independent Variables.**",
      "metadata": {
        "id": "w9iWnamuH8cc"
      }
    },
    {
      "cell_type": "markdown",
      "source": "# **8.1 Split the data into Independent variables.**",
      "metadata": {
        "id": "nZyuFtP7INaI"
      }
    },
    {
      "cell_type": "code",
      "source": "# independant\nX = df.iloc[:, :-1].values\nprint(X)\n",
      "metadata": {
        "colab": {
          "base_uri": "https://localhost:8080/"
        },
        "id": "CTpUy4rYIJXA",
        "outputId": "12cf323b-b005-4863-90b0-fc3004b06d08",
        "trusted": true
      },
      "execution_count": null,
      "outputs": []
    },
    {
      "cell_type": "markdown",
      "source": "# **8.2 Split the Data Into Dependent Variables.**",
      "metadata": {
        "id": "Ut0hiKGzIch1"
      }
    },
    {
      "cell_type": "code",
      "source": "# dependant\nY = df.iloc[:, -1].values\nprint(Y)",
      "metadata": {
        "colab": {
          "base_uri": "https://localhost:8080/"
        },
        "id": "8QYkUuoeImM8",
        "outputId": "0eb58f78-264b-4d53-e2f6-419e4708c2c4",
        "trusted": true
      },
      "execution_count": null,
      "outputs": []
    },
    {
      "cell_type": "markdown",
      "source": "# **9. Scale the independent variables**",
      "metadata": {
        "id": "Ohsuo48UIv3m"
      }
    },
    {
      "cell_type": "code",
      "source": "import pandas as pd\nfrom sklearn.preprocessing import MinMaxScaler\nscaler = MinMaxScaler()\ndf[[\"CustomerId\"]] = scaler.fit_transform(df[[\"CustomerId\"]])\n  \nprint(df)",
      "metadata": {
        "colab": {
          "base_uri": "https://localhost:8080/"
        },
        "id": "K79mQWmEJBL8",
        "outputId": "2aed6557-248b-4855-fb25-7d1c7645c270",
        "trusted": true
      },
      "execution_count": null,
      "outputs": []
    },
    {
      "cell_type": "markdown",
      "source": "# **10. Split the Data Into Training and Testing**",
      "metadata": {
        "id": "V7tw0DyiJKXk"
      }
    },
    {
      "cell_type": "code",
      "source": "from sklearn.model_selection import train_test_split\ntrain_size=0.8\nX = df.drop(columns = ['Tenure']).copy()\ny = df['Tenure']\nX_train, X_rem, y_train, y_rem = train_test_split(X,y, train_size=0.8)\ntest_size = 0.5\nX_valid, X_test, y_valid, y_test = train_test_split(X_rem,y_rem, test_size=0.5)\nprint(X_train.shape), print(y_train.shape)\nprint(X_valid.shape), print(y_valid.shape)\nprint(X_test.shape), print(y_test.shape)",
      "metadata": {
        "colab": {
          "base_uri": "https://localhost:8080/"
        },
        "id": "yU3eSR4SK6Ia",
        "outputId": "143c7e7a-8037-4573-f27a-6b44c9f38ffb",
        "trusted": true
      },
      "execution_count": null,
      "outputs": []
    },
    {
      "cell_type": "code",
      "source": "",
      "metadata": {},
      "execution_count": null,
      "outputs": []
    },
    {
      "cell_type": "code",
      "source": "",
      "metadata": {},
      "execution_count": null,
      "outputs": []
    }
  ]
}