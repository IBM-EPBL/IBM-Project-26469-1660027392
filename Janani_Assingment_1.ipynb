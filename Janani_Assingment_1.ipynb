{
  "metadata": {
    "colab": {
      "collapsed_sections": [],
      "provenance": []
    },
    "kernelspec": {
      "name": "python",
      "display_name": "Python (Pyodide)",
      "language": "python"
    },
    "language_info": {
      "codemirror_mode": {
        "name": "python",
        "version": 3
      },
      "file_extension": ".py",
      "mimetype": "text/x-python",
      "name": "python",
      "nbconvert_exporter": "python",
      "pygments_lexer": "ipython3",
      "version": "3.8"
    }
  },
  "nbformat_minor": 4,
  "nbformat": 4,
  "cells": [
    {
      "cell_type": "markdown",
      "source": "# Basic Python",
      "metadata": {
        "id": "McSxJAwcOdZ1"
      }
    },
    {
      "cell_type": "markdown",
      "source": "## 1. Split this string",
      "metadata": {
        "id": "CU48hgo4Owz5"
      }
    },
    {
      "cell_type": "code",
      "source": "s = \"Hi there Sam!\"",
      "metadata": {
        "id": "s07c7JK7Oqt-",
        "trusted": true
      },
      "execution_count": null,
      "outputs": []
    },
    {
      "cell_type": "code",
      "source": "m=s.split()\nprint(m)",
      "metadata": {
        "id": "6mGVa3SQYLkb",
        "trusted": true
      },
      "execution_count": null,
      "outputs": []
    },
    {
      "cell_type": "markdown",
      "source": "## 2. Use .format() to print the following string. \n\n### Output should be: The diameter of Earth is 12742 kilometers.",
      "metadata": {
        "id": "GH1QBn8HP375"
      }
    },
    {
      "cell_type": "code",
      "source": "planet = \"Earth\"\ndiameter = 12742",
      "metadata": {
        "id": "_ZHoml3kPqic",
        "trusted": true
      },
      "execution_count": null,
      "outputs": []
    },
    {
      "cell_type": "code",
      "source": "print(\"The diameter of Earth is {} kilometers\".format(diameter))",
      "metadata": {
        "id": "HyRyJv6CYPb4"
      },
      "execution_count": 9,
      "outputs": [
        {
          "name": "stdout",
          "output_type": "stream",
          "text": "The diameter of Earth is 12742 kilometers\n"
        }
      ]
    },
    {
      "cell_type": "markdown",
      "source": "## 3. In this nest dictionary grab the word \"hello\"",
      "metadata": {
        "id": "KE74ZEwkRExZ"
      }
    },
    {
      "cell_type": "code",
      "source": "d = {'k1':[1,2,3,{'tricky':['oh','man','inception',{'target':[1,2,3,'hello']}]}]}",
      "metadata": {
        "id": "fcVwbCc1QrQI"
      },
      "execution_count": 38,
      "outputs": []
    },
    {
      "cell_type": "code",
      "source": "k=d['k1'][3]['tricky'][3]['target'][3]\nprint(k)",
      "metadata": {
        "id": "MvbkMZpXYRaw"
      },
      "execution_count": 87,
      "outputs": [
        {
          "name": "stdout",
          "output_type": "stream",
          "text": "hello\n"
        }
      ]
    },
    {
      "cell_type": "markdown",
      "source": "# Numpy",
      "metadata": {
        "id": "bw0vVp-9ddjv"
      }
    },
    {
      "cell_type": "code",
      "source": "import numpy as np",
      "metadata": {
        "id": "LLiE_TYrhA1O"
      },
      "execution_count": null,
      "outputs": []
    },
    {
      "cell_type": "markdown",
      "source": "## 4.1 Create an array of 10 zeros? \n## 4.2 Create an array of 10 fives?",
      "metadata": {
        "id": "wOg8hinbgx30"
      }
    },
    {
      "cell_type": "code",
      "source": "a=[]\nfor i in range(10):\n    a.append(0)\nprint(a)",
      "metadata": {
        "id": "NHrirmgCYXvU"
      },
      "execution_count": 16,
      "outputs": [
        {
          "name": "stdout",
          "output_type": "stream",
          "text": "[0, 0, 0, 0, 0, 0, 0, 0, 0, 0]\n"
        }
      ]
    },
    {
      "cell_type": "code",
      "source": "a=[]\nfor i in range(10):\n    a.append(5)\nprint(a)",
      "metadata": {
        "id": "e4005lsTYXxx"
      },
      "execution_count": 17,
      "outputs": [
        {
          "name": "stdout",
          "output_type": "stream",
          "text": "[5, 5, 5, 5, 5, 5, 5, 5, 5, 5]\n"
        }
      ]
    },
    {
      "cell_type": "markdown",
      "source": "## 5. Create an array of all the even integers from 20 to 35",
      "metadata": {
        "id": "gZHHDUBvrMX4"
      }
    },
    {
      "cell_type": "code",
      "source": "a=[]\nfor i in range(20,36):\n    if(i%2==0):\n        a.append(i)\nprint(a)",
      "metadata": {
        "id": "oAI2tbU2Yag-"
      },
      "execution_count": 19,
      "outputs": [
        {
          "name": "stdout",
          "output_type": "stream",
          "text": "[20, 22, 24, 26, 28, 30, 32, 34]\n"
        }
      ]
    },
    {
      "cell_type": "markdown",
      "source": "## 6. Create a 3x3 matrix with values ranging from 0 to 8",
      "metadata": {
        "id": "NaOM308NsRpZ"
      }
    },
    {
      "cell_type": "code",
      "source": "import numpy as np\na=np.arange(0,9).reshape(3,3)  \nprint(a)",
      "metadata": {
        "id": "tOlEVH7BYceE"
      },
      "execution_count": 47,
      "outputs": [
        {
          "name": "stdout",
          "output_type": "stream",
          "text": "[[0 1 2]\n\n [3 4 5]\n\n [6 7 8]]\n"
        }
      ]
    },
    {
      "cell_type": "markdown",
      "source": "## 7. Concatenate a and b \na = np.array([1, 2, 3]),b = np.array([4, 5, 6])",
      "metadata": {
        "id": "hQ0dnhAQuU_p"
      }
    },
    {
      "cell_type": "code",
      "source": "import numpy as np\na=np.array([1,2,3])\nb=np.array([4,5,6])\np=np.concatenate((a,b),axis=None)\nprint(p)",
      "metadata": {
        "id": "rAPSw97aYfE0"
      },
      "execution_count": 88,
      "outputs": [
        {
          "name": "stdout",
          "output_type": "stream",
          "text": "[1 2 3 4 5 6]\n"
        }
      ]
    },
    {
      "cell_type": "markdown",
      "source": "# Pandas",
      "metadata": {
        "id": "dlPEY9DRwZga"
      }
    },
    {
      "cell_type": "markdown",
      "source": "## 8. Create a dataframe with 3 rows and 2 columns",
      "metadata": {
        "id": "ijoYW51zwr87"
      }
    },
    {
      "cell_type": "code",
      "source": "import pandas as pd\n",
      "metadata": {
        "id": "T5OxJRZ8uvR7"
      },
      "execution_count": 66,
      "outputs": []
    },
    {
      "cell_type": "code",
      "source": "df=pd.DataFrame(index=[1,2],columns=[1,2,3])\nprint(df)\n",
      "metadata": {
        "id": "xNpI_XXoYhs0"
      },
      "execution_count": 85,
      "outputs": [
        {
          "name": "stdout",
          "output_type": "stream",
          "text": "     1    2    3\n\n1  NaN  NaN  NaN\n\n2  NaN  NaN  NaN\n"
        }
      ]
    },
    {
      "cell_type": "markdown",
      "source": "## 9. Generate the series of dates from 1st Jan, 2023 to 10th Feb, 2023",
      "metadata": {
        "id": "UXSmdNclyJQD"
      }
    },
    {
      "cell_type": "code",
      "source": "import pandas as pd\nl=pd.date_range('2023-01-01','2023-02-10')\nprint(l)",
      "metadata": {
        "id": "dgyC0JhVYl4F"
      },
      "execution_count": 89,
      "outputs": [
        {
          "name": "stdout",
          "output_type": "stream",
          "text": "DatetimeIndex(['2023-01-01', '2023-01-02', '2023-01-03', '2023-01-04',\n\n               '2023-01-05', '2023-01-06', '2023-01-07', '2023-01-08',\n\n               '2023-01-09', '2023-01-10', '2023-01-11', '2023-01-12',\n\n               '2023-01-13', '2023-01-14', '2023-01-15', '2023-01-16',\n\n               '2023-01-17', '2023-01-18', '2023-01-19', '2023-01-20',\n\n               '2023-01-21', '2023-01-22', '2023-01-23', '2023-01-24',\n\n               '2023-01-25', '2023-01-26', '2023-01-27', '2023-01-28',\n\n               '2023-01-29', '2023-01-30', '2023-01-31', '2023-02-01',\n\n               '2023-02-02', '2023-02-03', '2023-02-04', '2023-02-05',\n\n               '2023-02-06', '2023-02-07', '2023-02-08', '2023-02-09',\n\n               '2023-02-10'],\n\n              dtype='datetime64[ns]', freq='D')\n"
        }
      ]
    },
    {
      "cell_type": "markdown",
      "source": "## 10. Create 2D list to DataFrame\n\nlists = [[1, 'aaa', 22],\n         [2, 'bbb', 25],\n         [3, 'ccc', 24]]",
      "metadata": {
        "id": "ZizSetD-y5az"
      }
    },
    {
      "cell_type": "code",
      "source": "lists = [[1, 'aaa', 22], [2, 'bbb', 25], [3, 'ccc', 24]]",
      "metadata": {
        "id": "_XMC8aEt0llB"
      },
      "execution_count": 90,
      "outputs": []
    },
    {
      "cell_type": "code",
      "source": "import pandas as pd\nlists=[['aaa',22],['bbb',25],['ccc',24]]\nm=pd.DataFrame(lists,columns=[0,1])\nprint(m)",
      "metadata": {
        "id": "knH76sDKYsVX"
      },
      "execution_count": 102,
      "outputs": [
        {
          "name": "stdout",
          "output_type": "stream",
          "text": "     0   1\n\n0  aaa  22\n\n1  bbb  25\n\n2  ccc  24\n"
        }
      ]
    },
    {
      "cell_type": "code",
      "source": "",
      "metadata": {},
      "execution_count": null,
      "outputs": []
    }
  ]
}